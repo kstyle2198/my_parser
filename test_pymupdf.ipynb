{
 "cells": [
  {
   "cell_type": "code",
   "execution_count": 2,
   "metadata": {},
   "outputs": [],
   "source": [
    "import pymupdf\n",
    "import os"
   ]
  },
  {
   "cell_type": "markdown",
   "metadata": {},
   "source": [
    "# 파일 읽기"
   ]
  },
  {
   "cell_type": "code",
   "execution_count": 3,
   "metadata": {},
   "outputs": [],
   "source": [
    "file_path = \"D:\\AA_develop\\parsing\\A3.pdf\""
   ]
  },
  {
   "cell_type": "code",
   "execution_count": 4,
   "metadata": {},
   "outputs": [],
   "source": [
    "doc = pymupdf.open(file_path)"
   ]
  },
  {
   "cell_type": "code",
   "execution_count": 5,
   "metadata": {},
   "outputs": [
    {
     "data": {
      "text/plain": [
       "'PLAN RECORD \\n \\nREV. NO. \\nDESCRIPTION \\nDRAWN BY \\nDATE \\nCHECKED \\nORIG. \\nORIGINALLY PREPARED FOR 8250/8251 \\nJ.S.YOON \\n2023.11.30 \\nS.H.HAN \\n0 \\nISSUED FOR PURCHASE ORDER. \\nJ.W.PARK \\n2023.12.18 \\nY.U.KIM \\n \\n \\n \\n \\n \\n전장 협의 \\n \\n \\n \\n \\n \\n \\n(  7  SHEETS WITH A COVER ) \\nSEC. NO. \\nPROJECT PLANNING DEP’T \\n(Commercial Ship) \\n157,000 DWT CLASS CRUDE OIL CARRIER \\nC2Y4 \\nDATE \\n2023. 11. 30. \\nPURCHASE ORDER SPECIFICATION FOR \\n \\n \\nF.W. GENERATOR \\nTEL. NO. \\nSHIP NO. \\n*1-6325 \\n8250/8251 \\n \\nAPPROVED \\nHyunseung Kim \\n \\n \\n \\n \\n \\n \\nCHECKED \\nSeungho Han \\n \\n \\n \\n \\n \\n \\nDRAWN \\nJunsuk Yoon \\n \\nREFERENCE DRAWING NO. \\nDRAWING SCALE \\nHYUNDAI HEAVY INDUSTRIES CO., LTD. \\nSAMHO SHIPYARD. KOREA \\n8250536-0 \\n \\nSEQUENCE NO. \\n \\n \\nPrepared by Hyundai Heavy Industries Co., Ltd.  \\non behalf of Hyundai Samho Heavy Industries Co., Ltd. \\nCAUTION \\nThis document contains confidential proprietary information. \\nHence, the reproduction, transfer and/or utilization in whole \\nor in part are prohibited without the written permission of \\nHyundai Samho Heavy Industries Co., Ltd. \\n자재구매부/이택용/HHIPN301584/2024-01-25 PM 06:28:29(1/7)\\nEvaluation Warning : The document was created with Spire.PDF for Python.\\n'"
      ]
     },
     "execution_count": 5,
     "metadata": {},
     "output_type": "execute_result"
    }
   ],
   "source": [
    "page = doc[0] \n",
    "page.get_text()"
   ]
  },
  {
   "cell_type": "code",
   "execution_count": 35,
   "metadata": {},
   "outputs": [
    {
     "data": {
      "text/plain": [
       "9"
      ]
     },
     "execution_count": 35,
     "metadata": {},
     "output_type": "execute_result"
    }
   ],
   "source": []
  },
  {
   "cell_type": "code",
   "execution_count": null,
   "metadata": {},
   "outputs": [],
   "source": []
  }
 ],
 "metadata": {
  "kernelspec": {
   "display_name": "myenv_310",
   "language": "python",
   "name": "python3"
  },
  "language_info": {
   "codemirror_mode": {
    "name": "ipython",
    "version": 3
   },
   "file_extension": ".py",
   "mimetype": "text/x-python",
   "name": "python",
   "nbconvert_exporter": "python",
   "pygments_lexer": "ipython3",
   "version": "3.10.11"
  }
 },
 "nbformat": 4,
 "nbformat_minor": 2
}
