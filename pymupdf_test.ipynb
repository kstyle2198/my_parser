{
 "cells": [
  {
   "cell_type": "code",
   "execution_count": 3,
   "metadata": {},
   "outputs": [],
   "source": [
    "import pymupdf\n",
    "import os"
   ]
  },
  {
   "cell_type": "markdown",
   "metadata": {},
   "source": [
    "# 파일 읽기"
   ]
  },
  {
   "cell_type": "code",
   "execution_count": 26,
   "metadata": {},
   "outputs": [],
   "source": [
    "file_path = \"D:/AA_develop/parsing/2024/Rule/Meta Llama Responsible Use Guide.pdf\""
   ]
  },
  {
   "cell_type": "code",
   "execution_count": 27,
   "metadata": {},
   "outputs": [],
   "source": [
    "doc = pymupdf.open(file_path)"
   ]
  },
  {
   "cell_type": "code",
   "execution_count": 40,
   "metadata": {},
   "outputs": [
    {
     "data": {
      "text/plain": [
       "'Meta has open sourced code and datasets for \\nmachine translation, computer vision, and fairness \\nevaluation, while contributing to the infrastructure  \\nof the AI-developer community with tools like \\nPyTorch, ONNX, Glow, and Detectron. In the past, \\nwe have also made our cutting-edge large language \\nmodels (LLMs) Llama 1 and OPT-175B available to  \\nthe scientific community through research releases \\nwhich have spurred research in model efficiency, \\nmedicine, and conversational safety studies on \\nevaluation methods, de-biasing techniques, and \\nsources of hallucinations in LLMs. \\nWe also took an important step toward advancing \\naccess and opportunity in the creation of AI-powered \\nproducts and experiences with the launch of Meta \\nLlama 2. The open release of these models to the \\nresearch and business community laid the foundation \\nfor the next wave of community-driven innovation in \\ngenerative AI. We’ve seen an incredible response  \\nthus far with millions of download requests in the \\ntime since its release.\\nDemocratization of access will put these models  \\nin more people’s hands, which we believe is the  \\nright path to ensure that this technology will benefit \\nthe world at large. We take our commitment to \\nbuilding responsible AI seriously, cognizant of the \\npotential privacy and content-related risks, as well  \\nas societal impacts. \\nMeta is proud to have supported the Llama 2 developer \\ncommunity by building state-of-the-art responsibility \\ntooling that makes it easier than ever to build and release \\nmodels responsibly. Learn more about the open source \\ntools we share with developers to help them build \\nresponsibly.\\nWe’re also excited to release an early look at the next \\ngeneration of Llama, Meta Llama 3 which, like Llama 2,  \\nis licensed for commercial use. This release of  \\nLlama 3 features both 8B and 70B pretrained and \\ninstruct fine-tuned versions to help support a broad \\nrange of application environments.\\nWe envision Llama models \\nas part of a broader system \\nthat puts the developer in the \\ndriver seat. \\nLlama models will serve as the foundational piece of  \\na complex system that developers design with their \\nunique end goals in mind. As part of this system \\ncentric approach, and to support responsible \\ndeployment of these models, we have updates to our \\nopen trust and safety project including a Meta Llama \\nGuard 2 model that supports a broader taxonomy for \\ninput/output prompt filtering.\\n2\\nApril 2024\\nAI at Meta\\n'"
      ]
     },
     "execution_count": 40,
     "metadata": {},
     "output_type": "execute_result"
    }
   ],
   "source": [
    "page = doc[3] \n",
    "page.get_text()"
   ]
  },
  {
   "cell_type": "code",
   "execution_count": 35,
   "metadata": {},
   "outputs": [
    {
     "data": {
      "text/plain": [
       "9"
      ]
     },
     "execution_count": 35,
     "metadata": {},
     "output_type": "execute_result"
    }
   ],
   "source": []
  },
  {
   "cell_type": "code",
   "execution_count": null,
   "metadata": {},
   "outputs": [],
   "source": []
  }
 ],
 "metadata": {
  "kernelspec": {
   "display_name": "myenv_310",
   "language": "python",
   "name": "python3"
  },
  "language_info": {
   "codemirror_mode": {
    "name": "ipython",
    "version": 3
   },
   "file_extension": ".py",
   "mimetype": "text/x-python",
   "name": "python",
   "nbconvert_exporter": "python",
   "pygments_lexer": "ipython3",
   "version": "3.10.11"
  }
 },
 "nbformat": 4,
 "nbformat_minor": 2
}
