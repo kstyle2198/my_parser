{
 "cells": [
  {
   "cell_type": "code",
   "execution_count": 1,
   "metadata": {},
   "outputs": [],
   "source": [
    "import pymupdf\n",
    "import os"
   ]
  },
  {
   "cell_type": "markdown",
   "metadata": {},
   "source": [
    "# 파일 읽기"
   ]
  },
  {
   "cell_type": "code",
   "execution_count": 2,
   "metadata": {},
   "outputs": [
    {
     "name": "stdout",
     "output_type": "stream",
     "text": [
      "Current Directory: d:\\AA_develop\\parsing\n",
      "Folder Path: d:\\AA_develop\\parsing\\samples\n",
      "['FWG.pdf', 'Guidance for Autonomous Ships_2023.pdf', 'PART 4_2023_hull_equipment.pdf', 'temp']\n",
      "['FWG.pdf', 'Guidance for Autonomous Ships_2023.pdf', 'PART 4_2023_hull_equipment.pdf']\n"
     ]
    }
   ],
   "source": [
    "current_directory = os.getcwd()\n",
    "print(\"Current Directory:\", current_directory)\n",
    "folder_name = \"samples\"\n",
    "folder_path = os.path.join(current_directory, folder_name)\n",
    "print(\"Folder Path:\", folder_path)\n",
    "all_items = os.listdir(folder_path)  # 하위 폴더까지 읽기\n",
    "print(all_items)\n",
    "files = [f for f in all_items if os.path.isfile(os.path.join(folder_path, f))]  # 폴더 제외 파일만 읽기\n",
    "print(files)  "
   ]
  },
  {
   "cell_type": "markdown",
   "metadata": {},
   "source": [
    "# Basic"
   ]
  },
  {
   "cell_type": "code",
   "execution_count": 3,
   "metadata": {},
   "outputs": [
    {
     "name": "stdout",
     "output_type": "stream",
     "text": [
      "FWG.pdf\n",
      "d:\\AA_develop\\parsing\\samples\\FWG.pdf\n"
     ]
    }
   ],
   "source": [
    "target_file = files[0]\n",
    "print(target_file)\n",
    "full_path = os.path.join(folder_path, target_file)\n",
    "print(full_path)"
   ]
  },
  {
   "cell_type": "code",
   "execution_count": 4,
   "metadata": {},
   "outputs": [
    {
     "name": "stdout",
     "output_type": "stream",
     "text": [
      "2 table(s) on page 2 of d:\\AA_develop\\parsing\\samples\\FWG.pdf\n",
      "\n",
      "['', 'HEATING MEDIUM', 'COOLING MEDIUM']\n",
      "['Source', 'M/E jacket cooling F.W.\\n(M/E model : HYUNDAI-MAN B&W\\n6G70ME-C10.5-HPSCR)', 'S.W.']\n",
      "['Flow rate (m3/h)', \"Maker's standard\", \"Maker's standard\"]\n",
      "['℃\\nInlet temp.( )', '83', '32']\n",
      "['Press.(bar)', '4.5', \"Maker's standard\"]\n",
      "['', 'Distillate pump', 'Ejector pump']\n",
      "['Capacity', \"Maker's standard\", 'To be supplied\\nby shipyard']\n",
      "['Total head', \"Maker's standard\", None]\n",
      "['Shaft seal', \"Maker's standard\", None]\n"
     ]
    }
   ],
   "source": [
    "# Open some document, for example a PDF (could also be EPUB, XPS, etc.)\n",
    "doc = pymupdf.open(full_path)\n",
    "\n",
    "# Load a desired page. This works via 0-based numbers\n",
    "page = doc[2]  # this is the first page\n",
    "\n",
    "# Look for tables on this page and display the table count\n",
    "tabs = page.find_tables()\n",
    "print(f\"{len(tabs.tables)} table(s) on {page}\")\n",
    "print()\n",
    "\n",
    "tab = tabs[1]\n",
    "for line in tab.extract():  # print cell text for each row\n",
    "    print(line)"
   ]
  },
  {
   "cell_type": "code",
   "execution_count": 10,
   "metadata": {},
   "outputs": [
    {
     "data": {
      "text/plain": [
       "page 2 of d:\\AA_develop\\parsing\\samples\\FWG.pdf"
      ]
     },
     "execution_count": 10,
     "metadata": {},
     "output_type": "execute_result"
    }
   ],
   "source": [
    "page"
   ]
  },
  {
   "cell_type": "code",
   "execution_count": null,
   "metadata": {},
   "outputs": [],
   "source": []
  }
 ],
 "metadata": {
  "kernelspec": {
   "display_name": "myenv_310",
   "language": "python",
   "name": "python3"
  },
  "language_info": {
   "codemirror_mode": {
    "name": "ipython",
    "version": 3
   },
   "file_extension": ".py",
   "mimetype": "text/x-python",
   "name": "python",
   "nbconvert_exporter": "python",
   "pygments_lexer": "ipython3",
   "version": "3.10.11"
  }
 },
 "nbformat": 4,
 "nbformat_minor": 2
}
