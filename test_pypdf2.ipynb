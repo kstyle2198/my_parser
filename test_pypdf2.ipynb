{
 "cells": [
  {
   "cell_type": "code",
   "execution_count": 3,
   "metadata": {},
   "outputs": [],
   "source": [
    "from PyPDF2 import PdfReader"
   ]
  },
  {
   "cell_type": "code",
   "execution_count": 6,
   "metadata": {},
   "outputs": [],
   "source": [
    "file_path = \"D:/AA_develop/parsing/2024/Rule/Meta Llama Responsible Use Guide.pdf\"\n",
    "file_path = \"D:/AA_develop/parsing/2024/Manual/한글샘플.pdf\""
   ]
  },
  {
   "cell_type": "code",
   "execution_count": 12,
   "metadata": {},
   "outputs": [
    {
     "name": "stdout",
     "output_type": "stream",
     "text": [
      "30\n"
     ]
    },
    {
     "data": {
      "text/plain": [
       "'  2023 VOL. 3\\n223-2. 민감정보 유출과 결과물 오남용\\n무분별한 데이터 입력으로 인한 민 감정보의 유출 가능성 존재\\n∙ 사용자가 ChatGPT에 입력한 정보 는 사용자 컨텐츠로 OpenAI 서버에 저장 되기 때문에, \\n개인정보나 회사 기밀정보 등 민감정보를 ChatGPT에 입력하지 않도록 주의 필요\\n  ☞ OpenAI 社 에 발생하는 보안 사고 , 우회 질문을 통한 민감정보 유출 , 인공지능 모델 이나 \\n서비스에 대한 해킹 공격  등으로 인해 사용자가 입력한 정보 가 유출될 수 있음\\n[1] ChatGPT 입력 데이터 저장 여부\\n∙ OpenAI의 ‘개인정보 정책 (Privacy Policy) ’에 따라, ChatGPT 등 OpenAI 서비스를 활용할 때 \\n입력되는 데이터도 사용자 컨텐츠 (사용자가 제공하는 개인정보) 로 취급하여 OpenAI 社에 저장\\n- 저장 기한은 명시하고 있지 않으나 , 개인정보에 대한 접근 및 삭제 등 사용자의 개인정보 권리 명시\\n   ※ Privacy Policy – 1. Personal information we collect, OpenAI.\\n(그림 7 ) OpenAI 개인 정보 정책\\n[2] 입력 데이터의 모델 개선 활용 여부\\n  ∙ 프롬프트 입력, 응답, 업로드 및 생성된 이미지 등 OpenAI의 서비스를 활용 하면서 사용자가 \\n제공한 데이터 (사용자 컨텐츠) 는 OpenAI의 서비스나 AI모델 개선에 활용\\n   - 승인된 일부 OpenAI 직원 만이 특정 상황* 에서만 데이터에 접근 가능 하며, 데이터에 접근하기 전에 보안 \\n및 개인정보보호 교육 을 필수로 수료 해야 함\\n     * 남용 및 보안 사고 조사, 사용자의 요청이 있는 경우, 법적 의무 준수, 데이터를 활용한 모델 미세 조정\\n   - 데이터 내에  개인정보를 줄이기 위한 조치 를 취하고, 데이터에 대한 모든 접근 을 모니터링하고 기록\\n(그림 8 ) 모델 개선에 사용자가 제 공한 데이터를 활 용 (출처 : O penAI)'"
      ]
     },
     "execution_count": 12,
     "metadata": {},
     "output_type": "execute_result"
    }
   ],
   "source": [
    "reader = PdfReader(file_path)\n",
    "number_of_pages = len(reader.pages)\n",
    "print(number_of_pages)\n",
    "page = reader.pages[24]\n",
    "text = page.extract_text()\n",
    "text"
   ]
  },
  {
   "cell_type": "code",
   "execution_count": 13,
   "metadata": {},
   "outputs": [
    {
     "name": "stdout",
     "output_type": "stream",
     "text": [
      "  2023 VOL. 3\n",
      "223-2. 민감정보 유출과 결과물 오남용\n",
      "무분별한 데이터 입력으로 인한 민 감정보의 유출 가능성 존재\n",
      "∙ 사용자가 ChatGPT에 입력한 정보 는 사용자 컨텐츠로 OpenAI 서버에 저장 되기 때문에, \n",
      "개인정보나 회사 기밀정보 등 민감정보를 ChatGPT에 입력하지 않도록 주의 필요\n",
      "  ☞ OpenAI 社 에 발생하는 보안 사고 , 우회 질문을 통한 민감정보 유출 , 인공지능 모델 이나 \n",
      "서비스에 대한 해킹 공격  등으로 인해 사용자가 입력한 정보 가 유출될 수 있음\n",
      "[1] ChatGPT 입력 데이터 저장 여부\n",
      "∙ OpenAI의 ‘개인정보 정책 (Privacy Policy) ’에 따라, ChatGPT 등 OpenAI 서비스를 활용할 때 \n",
      "입력되는 데이터도 사용자 컨텐츠 (사용자가 제공하는 개인정보) 로 취급하여 OpenAI 社에 저장\n",
      "- 저장 기한은 명시하고 있지 않으나 , 개인정보에 대한 접근 및 삭제 등 사용자의 개인정보 권리 명시\n",
      "   ※ Privacy Policy – 1. Personal information we collect, OpenAI.\n",
      "(그림 7 ) OpenAI 개인 정보 정책\n",
      "[2] 입력 데이터의 모델 개선 활용 여부\n",
      "  ∙ 프롬프트 입력, 응답, 업로드 및 생성된 이미지 등 OpenAI의 서비스를 활용 하면서 사용자가 \n",
      "제공한 데이터 (사용자 컨텐츠) 는 OpenAI의 서비스나 AI모델 개선에 활용\n",
      "   - 승인된 일부 OpenAI 직원 만이 특정 상황* 에서만 데이터에 접근 가능 하며, 데이터에 접근하기 전에 보안 \n",
      "및 개인정보보호 교육 을 필수로 수료 해야 함\n",
      "     * 남용 및 보안 사고 조사, 사용자의 요청이 있는 경우, 법적 의무 준수, 데이터를 활용한 모델 미세 조정\n",
      "   - 데이터 내에  개인정보를 줄이기 위한 조치 를 취하고, 데이터에 대한 모든 접근 을 모니터링하고 기록\n",
      "(그림 8 ) 모델 개선에 사용자가 제 공한 데이터를 활 용 (출처 : O penAI)\n"
     ]
    }
   ],
   "source": [
    "print(text)"
   ]
  },
  {
   "cell_type": "code",
   "execution_count": null,
   "metadata": {},
   "outputs": [],
   "source": []
  }
 ],
 "metadata": {
  "kernelspec": {
   "display_name": "myenv_310",
   "language": "python",
   "name": "python3"
  },
  "language_info": {
   "codemirror_mode": {
    "name": "ipython",
    "version": 3
   },
   "file_extension": ".py",
   "mimetype": "text/x-python",
   "name": "python",
   "nbconvert_exporter": "python",
   "pygments_lexer": "ipython3",
   "version": "3.10.11"
  }
 },
 "nbformat": 4,
 "nbformat_minor": 2
}
