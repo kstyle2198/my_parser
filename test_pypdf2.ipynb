{
 "cells": [
  {
   "cell_type": "code",
   "execution_count": 1,
   "metadata": {},
   "outputs": [],
   "source": [
    "from PyPDF2 import PdfReader"
   ]
  },
  {
   "cell_type": "code",
   "execution_count": 2,
   "metadata": {},
   "outputs": [],
   "source": [
    "file_path = \"./WorksheetToPdf.pdf\""
   ]
  },
  {
   "cell_type": "code",
   "execution_count": 3,
   "metadata": {},
   "outputs": [
    {
     "name": "stdout",
     "output_type": "stream",
     "text": [
      "1\n"
     ]
    },
    {
     "data": {
      "text/plain": [
       "'Other ways to give: Flattr, bank transfer - click the boxes below\\nQuestions about your donation? Send us an email\\nDuring processing of your donation, your payment data will be transferred to a financial service provider. For further information, see our privacy policy.\\nname grade score\\nkim A 95\\nyoon B 70\\npark C 65Evaluation Warning : The document was created with  Spire.XLS for Python'"
      ]
     },
     "execution_count": 3,
     "metadata": {},
     "output_type": "execute_result"
    }
   ],
   "source": [
    "reader = PdfReader(file_path)\n",
    "number_of_pages = len(reader.pages)\n",
    "print(number_of_pages)\n",
    "page = reader.pages[0]\n",
    "text = page.extract_text()\n",
    "text"
   ]
  },
  {
   "cell_type": "code",
   "execution_count": 4,
   "metadata": {},
   "outputs": [
    {
     "name": "stdout",
     "output_type": "stream",
     "text": [
      "Other ways to give: Flattr, bank transfer - click the boxes below\n",
      "Questions about your donation? Send us an email\n",
      "During processing of your donation, your payment data will be transferred to a financial service provider. For further information, see our privacy policy.\n",
      "name grade score\n",
      "kim A 95\n",
      "yoon B 70\n",
      "park C 65Evaluation Warning : The document was created with  Spire.XLS for Python\n"
     ]
    }
   ],
   "source": [
    "print(text)"
   ]
  },
  {
   "cell_type": "code",
   "execution_count": null,
   "metadata": {},
   "outputs": [],
   "source": []
  }
 ],
 "metadata": {
  "kernelspec": {
   "display_name": "myenv_310",
   "language": "python",
   "name": "python3"
  },
  "language_info": {
   "codemirror_mode": {
    "name": "ipython",
    "version": 3
   },
   "file_extension": ".py",
   "mimetype": "text/x-python",
   "name": "python",
   "nbconvert_exporter": "python",
   "pygments_lexer": "ipython3",
   "version": "3.10.11"
  }
 },
 "nbformat": 4,
 "nbformat_minor": 2
}
