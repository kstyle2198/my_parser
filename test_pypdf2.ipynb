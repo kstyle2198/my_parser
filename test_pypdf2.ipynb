{
 "cells": [
  {
   "cell_type": "code",
   "execution_count": 2,
   "metadata": {},
   "outputs": [],
   "source": [
    "from PyPDF2 import PdfReader"
   ]
  },
  {
   "cell_type": "code",
   "execution_count": 7,
   "metadata": {},
   "outputs": [],
   "source": [
    "# file_path = \"D:/AA_develop/parsing/2024/Rule/Meta Llama Responsible Use Guide.pdf\"\n",
    "file_path = \"D:/AA_develop/parsing/A3.pdf\""
   ]
  },
  {
   "cell_type": "code",
   "execution_count": 9,
   "metadata": {},
   "outputs": [
    {
     "name": "stdout",
     "output_type": "stream",
     "text": [
      "7\n"
     ]
    },
    {
     "data": {
      "text/plain": [
       "'PLAN RECORD   \\nREV. NO.  DESCRIPTION  DRAWN BY  DATE  CHECKED  \\nORIG.  ORIGINALLY PREPARED FOR 8250/8251  J.S.YOON  2023. 11.30 S.H.HAN  \\n0 ISSUED FOR PURCHASE ORDER.  J.W.PARK  2023. 12.18  Y.U.KIM  \\n  \\n   \\n전장 협의     \\n  (  7  SHEETS WITH A COVER )  \\nSEC. NO.  PROJECT PLAN NING DEP’T  \\n(Commercial Ship)  157,000 DWT CLASS CRUDE OIL CARRIER  \\nC2Y4  \\nDATE  2023. 11. 30. PURCHASE ORDER SPECIFICATION FOR  \\n  \\nF.W. GENERATOR  TEL. NO.  SHIP NO.  \\n*1-6325  8250/8251 \\n APPROVED  Hyunseung Kim    \\n    \\nCHECKED  Seungho Han    \\n    \\nDRAWN  Junsuk Yoon   REFERENCE DRAWING NO.  DRAWING SCALE  \\nHYUNDAI HEAVY INDUSTRIES CO., LTD.  \\nSAMHO  SHIPYARD. KOREA  8250536 -0  \\nSEQUENCE NO.    Prepared  by Hyundai Heavy Industries Co., Ltd.  \\non behalf of Hyundai Samho Heavy Industries Co., Ltd.  \\nCAUTION  \\nThis document contains confidential proprietary information . \\nHence, the reproduction, transfer  and/or utilization in whole \\nor in part are prohibited with out the written permission  of \\nHyundai Samho Heavy Industries Co., Ltd.  \\n자재구매부/이택용 /HHIPN301584/2024-01-25 PM 06:28:29(1/7)\\nEvaluation Warning : The document was created with Spire.PDF for Python.'"
      ]
     },
     "execution_count": 9,
     "metadata": {},
     "output_type": "execute_result"
    }
   ],
   "source": [
    "reader = PdfReader(file_path)\n",
    "number_of_pages = len(reader.pages)\n",
    "print(number_of_pages)\n",
    "page = reader.pages[0]\n",
    "text = page.extract_text()\n",
    "text"
   ]
  },
  {
   "cell_type": "code",
   "execution_count": 10,
   "metadata": {},
   "outputs": [
    {
     "name": "stdout",
     "output_type": "stream",
     "text": [
      "PLAN RECORD   \n",
      "REV. NO.  DESCRIPTION  DRAWN BY  DATE  CHECKED  \n",
      "ORIG.  ORIGINALLY PREPARED FOR 8250/8251  J.S.YOON  2023. 11.30 S.H.HAN  \n",
      "0 ISSUED FOR PURCHASE ORDER.  J.W.PARK  2023. 12.18  Y.U.KIM  \n",
      "  \n",
      "   \n",
      "전장 협의     \n",
      "  (  7  SHEETS WITH A COVER )  \n",
      "SEC. NO.  PROJECT PLAN NING DEP’T  \n",
      "(Commercial Ship)  157,000 DWT CLASS CRUDE OIL CARRIER  \n",
      "C2Y4  \n",
      "DATE  2023. 11. 30. PURCHASE ORDER SPECIFICATION FOR  \n",
      "  \n",
      "F.W. GENERATOR  TEL. NO.  SHIP NO.  \n",
      "*1-6325  8250/8251 \n",
      " APPROVED  Hyunseung Kim    \n",
      "    \n",
      "CHECKED  Seungho Han    \n",
      "    \n",
      "DRAWN  Junsuk Yoon   REFERENCE DRAWING NO.  DRAWING SCALE  \n",
      "HYUNDAI HEAVY INDUSTRIES CO., LTD.  \n",
      "SAMHO  SHIPYARD. KOREA  8250536 -0  \n",
      "SEQUENCE NO.    Prepared  by Hyundai Heavy Industries Co., Ltd.  \n",
      "on behalf of Hyundai Samho Heavy Industries Co., Ltd.  \n",
      "CAUTION  \n",
      "This document contains confidential proprietary information . \n",
      "Hence, the reproduction, transfer  and/or utilization in whole \n",
      "or in part are prohibited with out the written permission  of \n",
      "Hyundai Samho Heavy Industries Co., Ltd.  \n",
      "자재구매부/이택용 /HHIPN301584/2024-01-25 PM 06:28:29(1/7)\n",
      "Evaluation Warning : The document was created with Spire.PDF for Python.\n"
     ]
    }
   ],
   "source": [
    "print(text)"
   ]
  },
  {
   "cell_type": "code",
   "execution_count": null,
   "metadata": {},
   "outputs": [],
   "source": []
  }
 ],
 "metadata": {
  "kernelspec": {
   "display_name": "myenv_310",
   "language": "python",
   "name": "python3"
  },
  "language_info": {
   "codemirror_mode": {
    "name": "ipython",
    "version": 3
   },
   "file_extension": ".py",
   "mimetype": "text/x-python",
   "name": "python",
   "nbconvert_exporter": "python",
   "pygments_lexer": "ipython3",
   "version": "3.10.11"
  }
 },
 "nbformat": 4,
 "nbformat_minor": 2
}
