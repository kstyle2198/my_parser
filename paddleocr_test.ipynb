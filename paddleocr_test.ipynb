{
 "cells": [
  {
   "cell_type": "code",
   "execution_count": 5,
   "metadata": {},
   "outputs": [],
   "source": [
    "from paddleocr import PaddleOCR\n",
    "from pprint import pprint"
   ]
  },
  {
   "cell_type": "code",
   "execution_count": 13,
   "metadata": {},
   "outputs": [
    {
     "name": "stdout",
     "output_type": "stream",
     "text": [
      "[2024/08/14 14:13:23] ppocr DEBUG: Namespace(help='==SUPPRESS==', use_gpu=False, use_xpu=False, use_npu=False, use_mlu=False, ir_optim=True, use_tensorrt=False, min_subgraph_size=15, precision='fp32', gpu_mem=500, gpu_id=0, image_dir=None, page_num=0, det_algorithm='DB', det_model_dir='C:\\\\Users\\\\jongb/.paddleocr/whl\\\\det\\\\ml\\\\Multilingual_PP-OCRv3_det_infer', det_limit_side_len=960, det_limit_type='max', det_box_type='quad', det_db_thresh=0.3, det_db_box_thresh=0.6, det_db_unclip_ratio=1.5, max_batch_size=10, use_dilation=False, det_db_score_mode='fast', det_east_score_thresh=0.8, det_east_cover_thresh=0.1, det_east_nms_thresh=0.2, det_sast_score_thresh=0.5, det_sast_nms_thresh=0.2, det_pse_thresh=0, det_pse_box_thresh=0.85, det_pse_min_area=16, det_pse_scale=1, scales=[8, 16, 32], alpha=1.0, beta=1.0, fourier_degree=5, rec_algorithm='SVTR_LCNet', rec_model_dir='C:\\\\Users\\\\jongb/.paddleocr/whl\\\\rec\\\\korean\\\\korean_PP-OCRv4_rec_infer', rec_image_inverse=True, rec_image_shape='3, 48, 320', rec_batch_num=6, max_text_length=25, rec_char_dict_path='d:\\\\AA_develop\\\\parsing\\\\myenv_310\\\\lib\\\\site-packages\\\\paddleocr\\\\ppocr\\\\utils\\\\dict\\\\korean_dict.txt', use_space_char=True, vis_font_path='./doc/fonts/simfang.ttf', drop_score=0.5, e2e_algorithm='PGNet', e2e_model_dir=None, e2e_limit_side_len=768, e2e_limit_type='max', e2e_pgnet_score_thresh=0.5, e2e_char_dict_path='./ppocr/utils/ic15_dict.txt', e2e_pgnet_valid_set='totaltext', e2e_pgnet_mode='fast', use_angle_cls=True, cls_model_dir='C:\\\\Users\\\\jongb/.paddleocr/whl\\\\cls\\\\ch_ppocr_mobile_v2.0_cls_infer', cls_image_shape='3, 48, 192', label_list=['0', '180'], cls_batch_num=6, cls_thresh=0.9, enable_mkldnn=False, cpu_threads=10, use_pdserving=False, warmup=False, sr_model_dir=None, sr_image_shape='3, 32, 128', sr_batch_num=1, draw_img_save_dir='./inference_results', save_crop_res=False, crop_res_save_dir='./output', use_mp=False, total_process_num=1, process_id=0, benchmark=False, save_log_path='./log_output/', show_log=True, use_onnx=False, return_word_box=False, output='./output', table_max_len=488, table_algorithm='TableAttn', table_model_dir=None, merge_no_span_structure=True, table_char_dict_path=None, layout_model_dir=None, layout_dict_path=None, layout_score_threshold=0.5, layout_nms_threshold=0.5, kie_algorithm='LayoutXLM', ser_model_dir=None, re_model_dir=None, use_visual_backbone=True, ser_dict_path='../train_data/XFUND/class_list_xfun.txt', ocr_order_method=None, mode='structure', image_orientation=False, layout=True, table=True, ocr=True, recovery=False, use_pdf2docx_api=False, invert=False, binarize=False, alphacolor=(255, 255, 255), lang='korean', det=True, rec=True, type='ocr', savefile=False, ocr_version='PP-OCRv4', structure_version='PP-StructureV2')\n",
      "[2024/08/14 14:13:27] ppocr DEBUG: dt_boxes num : 187, elapsed : 0.20908308029174805\n",
      "[2024/08/14 14:13:27] ppocr DEBUG: cls num  : 187, elapsed : 0.46367931365966797\n",
      "[2024/08/14 14:13:50] ppocr DEBUG: rec_res num  : 187, elapsed : 22.397387266159058\n"
     ]
    },
    {
     "data": {
      "text/plain": [
       "\"13공로HC DDM설계문제 개정내용: DDD 설계누락 3325 HPu PANEL PROTECTI ON! COVER 추가의 건 설계외주문제 DM* 원주 개정작업내용 DDA 선주/선급요구 -1 3325시운전 후hPU PaNEl 상부 PROTECTION COVER 추가의건 DED 설계개선 C-3325-B-OE -00008 그Ax boikv PitHM DDL 설계지연 즉가 개정관련소요자재및현장작업자/인수자정보 DDS Rule&Spec 검토부족 DDC 타직능 협의부족 3325 긴급 제작 :D27SOLU21 604 9at] /3691:8] PAM IAM CAD 문저 3326~3329 3356~3359 POR NO: MF55 PEV FH深운/最記 2설치 위치:E/R Housing 현장문제 / Jek Aux bolley PP 생산부서 IMaker 문제DCN에 3개정작업 오 관리자 의 한개정작업 3325: 의장1부 껌위o PMM 3326- ~3329 3336 -3339 각 호선의장 ICINO PMC 현대MOS문제 선주 Extra/ /Credit POE No Maker Clain PMC No Ivslyl 선주요구 PDR MKA명: PxV 진동 PXT 천재지변 진동 서 시공전 시공후 E왜c 설계부과 3325-- -3329 0 기장설계 1과 3336- -3339 배포처 부수 ERP 유료눌을니로 SHEETS WITH COVER 요능 부 3 선체설계 현장문제 E/B NO 요청 NO 조선품질경영부 2 [2IYE I8 1용공/JSHF오 SEC NO TE[ NO SHIP NO DRAW I NG N{ Hev SCALE C215 2-3864 3325~3329 3336 B33 42500P52A 104 APPROVED 책임 NAME OF DRAW I NG 5 DATE CHECKED 공울l0 PART IAL ALT ARRG'T OF 설치도 [E/R HOUS I NG DRAWN 신홈운 HYUNDA I HEAVY I NDUSTR IES CO  LTD PRINT 202A-O7O1 10-18/년용주1152813\""
      ]
     },
     "execution_count": 13,
     "metadata": {},
     "output_type": "execute_result"
    }
   ],
   "source": [
    "img_path = \"D:/AA_develop/parsing/2024/개정도/개정도_표지2.pdf\"\n",
    "ocr = PaddleOCR(use_angle_cls=True, lang=\"korean\")  # en, korean\n",
    "ocr_result = ocr.ocr(img_path)\n",
    "for idx in range(len(ocr_result)):\n",
    "    res = ocr_result[idx]\n",
    "    temp_result = []\n",
    "    for line in res:\n",
    "        temp_result.append(line[1][0])\n",
    "text_result = \" \".join(temp_result)\n",
    "text_result"
   ]
  },
  {
   "cell_type": "code",
   "execution_count": 14,
   "metadata": {},
   "outputs": [
    {
     "data": {
      "text/plain": [
       "\"13공로HC DDM설계문제 개정내용: DDD 설계누락 3325 HPu PANEL PROTECTI ON! COVER 추가의 건 설계외주문제 DM* 원주 개정작업내용 DDA 선주/선급요구 -1 3325시운전 후hPU PaNEl 상부 PROTECTION COVER 추가의건 DED 설계개선 C-3325-B-OE -00008 그Ax boikv PitHM DDL 설계지연 즉가 개정관련소요자재및현장작업자/인수자정보 DDS Rule&Spec 검토부족 DDC 타직능 협의부족 3325 긴급 제작 :D27SOLU21 604 9at] /3691:8] PAM IAM CAD 문저 3326~3329 3356~3359 POR NO: MF55 PEV FH深운/最記 2설치 위치:E/R Housing 현장문제 / Jek Aux bolley PP 생산부서 IMaker 문제DCN에 3개정작업 오 관리자 의 한개정작업 3325: 의장1부 껌위o PMM 3326- ~3329 3336 -3339 각 호선의장 ICINO PMC 현대MOS문제 선주 Extra/ /Credit POE No Maker Clain PMC No Ivslyl 선주요구 PDR MKA명: PxV 진동 PXT 천재지변 진동 서 시공전 시공후 E왜c 설계부과 3325-- -3329 0 기장설계 1과 3336- -3339 배포처 부수 ERP 유료눌을니로 SHEETS WITH COVER 요능 부 3 선체설계 현장문제 E/B NO 요청 NO 조선품질경영부 2 [2IYE I8 1용공/JSHF오 SEC NO TE[ NO SHIP NO DRAW I NG N{ Hev SCALE C215 2-3864 3325~3329 3336 B33 42500P52A 104 APPROVED 책임 NAME OF DRAW I NG 5 DATE CHECKED 공울l0 PART IAL ALT ARRG'T OF 설치도 [E/R HOUS I NG DRAWN 신홈운 HYUNDA I HEAVY I NDUSTR IES CO  LTD PRINT 202A-O7O1 10-18/년용주1152813\""
      ]
     },
     "execution_count": 14,
     "metadata": {},
     "output_type": "execute_result"
    }
   ],
   "source": [
    "text_result"
   ]
  },
  {
   "cell_type": "code",
   "execution_count": null,
   "metadata": {},
   "outputs": [],
   "source": []
  }
 ],
 "metadata": {
  "kernelspec": {
   "display_name": "myenv_310",
   "language": "python",
   "name": "python3"
  },
  "language_info": {
   "codemirror_mode": {
    "name": "ipython",
    "version": 3
   },
   "file_extension": ".py",
   "mimetype": "text/x-python",
   "name": "python",
   "nbconvert_exporter": "python",
   "pygments_lexer": "ipython3",
   "version": "3.10.11"
  }
 },
 "nbformat": 4,
 "nbformat_minor": 2
}
