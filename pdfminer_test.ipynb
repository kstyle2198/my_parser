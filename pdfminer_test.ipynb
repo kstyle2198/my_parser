{
 "cells": [
  {
   "cell_type": "code",
   "execution_count": 6,
   "metadata": {},
   "outputs": [],
   "source": [
    "from pdfminer.high_level import extract_text\n",
    "from pprint import pprint"
   ]
  },
  {
   "cell_type": "code",
   "execution_count": 72,
   "metadata": {},
   "outputs": [],
   "source": [
    "# path = \"D:/AA_develop/parsing/2024/Manual/BERT.pdf\"\n",
    "path = \"D:/AA_develop/parsing/2024/POS/FWG.pdf\"\n",
    "# path = \"D:/AA_develop/parsing/2024/POS/Air Compressor.pdf\""
   ]
  },
  {
   "cell_type": "code",
   "execution_count": 73,
   "metadata": {},
   "outputs": [],
   "source": [
    "# pdfminer를 사용하여 page 구분 text 추출\n",
    "\n",
    "from io import StringIO\n",
    "from pdfminer.converter import TextConverter\n",
    "from pdfminer.layout import LAParams\n",
    "from pdfminer.pdfinterp import PDFResourceManager, PDFPageInterpreter\n",
    "from pdfminer.pdfpage import PDFPage\n",
    "from pdfminer.utils import open_filename\n",
    "\n",
    "\n",
    "def iter_text_per_page(pdf_file, password='', page_numbers=None, maxpages=0,\n",
    "                 caching=True, codec='utf-8', laparams=None):\n",
    "    if laparams is None:\n",
    "        laparams = LAParams()\n",
    "\n",
    "    with open_filename(pdf_file, \"rb\") as fp:\n",
    "        rsrcmgr = PDFResourceManager(caching=caching)\n",
    "\n",
    "        idx = 1\n",
    "        for page in PDFPage.get_pages(\n",
    "                fp,\n",
    "                page_numbers,\n",
    "                maxpages=maxpages,\n",
    "                password=password,\n",
    "                caching=caching,\n",
    "        ):\n",
    "            with StringIO() as output_string:\n",
    "                device = TextConverter(rsrcmgr, output_string, codec=codec,\n",
    "                                       laparams=laparams)\n",
    "                interpreter = PDFPageInterpreter(rsrcmgr, device)\n",
    "                interpreter.process_page(page)\n",
    "                yield idx, output_string.getvalue()\n",
    "                idx += 1\n",
    "\n",
    "\n",
    "def main(path):\n",
    "    pdf_file = path\n",
    "    result = dict()\n",
    "    for count, page_text in iter_text_per_page(pdf_file):\n",
    "        page_text = page_text.replace(\"\\n\", \" \").replace(\"- \", \"\")\n",
    "        result[count] = page_text\n",
    "    \n",
    "    return result\n"
   ]
  },
  {
   "cell_type": "code",
   "execution_count": 74,
   "metadata": {},
   "outputs": [
    {
     "name": "stdout",
     "output_type": "stream",
     "text": [
      "<class 'dict'>\n"
     ]
    }
   ],
   "source": [
    "result = main(path=path)\n",
    "print(type(result))\n"
   ]
  },
  {
   "cell_type": "code",
   "execution_count": 75,
   "metadata": {},
   "outputs": [
    {
     "data": {
      "text/plain": [
       "{1: 'PLAN RECORD   REV. NO.   DESCRIPTION   DRAWN BY   DATE   CHECKED   ORIG.   ORIGINALLY PREPARED FOR 8250/8251   J.S.YOON   2023.11.30   S.H.HAN   0   ISSUED FOR PURCHASE ORDER.   J.W.PARK   2023.12.18   Y.U.KIM   Prepared by Hyundai Heavy Industries Co., Ltd.    on behalf of Hyundai Samho Heavy Industries Co., Ltd.   CAUTION  This document contains confidential proprietary information.  Hence,  the  reproduction,  transfer  and/or  utilization  in  whole  or  in  part  are  prohibited  without  the  written  permission  of  Hyundai Samho Heavy Industries Co., Ltd.   전장  협의   SEC. NO.  C2Y4   DATE   PROJECT PLANNING DEP’T   (Commercial Ship)   2023. 11. 30.   157,000 DWT CLASS CRUDE OIL CARRIER   PURCHASE ORDER SPECIFICATION FOR   (    7    SHEETS WITH A COVER )   TEL. NO.  SHIP NO.   *1-6325   8250/8251   APPROVED   Hyunseung Kim   CHECKED   Seungho Han   F.W. GENERATOR   DRAWN   Junsuk Yoon     REFERENCE DRAWING NO.   DRAWING SCALE   HYUNDAI HEAVY INDUSTRIES CO., LTD.  SAMHO SHIPYARD. KOREA   8250536-0   SEQUENCE NO.   자재구매부/이택용/HHIPN301584/2024-01-25 PM 06:28:29(1/7)                                                            \\x0c',\n",
       " 2: 'PACKAGE    LIST  HULL NO. : 8250/8251                                                                                    PAGE : 0   POR NO.   SER.   SEQ.   NO.   NO.   DESCRIPTION   Q’TY  REMARK   M536   AA  F.W. GENERATOR EVAPORATING TYPE   1  Separately   packed   M536   BB  SPARE PARTS & TOOLS FOR F.W. GENERATOR   1       1. EACH UNIT WITHIN A PACKAGE OR SHIPPING CONTAINER SHALL BE             CLEARLY MARKED IN A MANNER AS MAY BE DESIGNATED BY THE BUYER             BY STAMPING, TAGGING OR OTHER SUITABLE MEANS WITH             IDENTIFICATION OF SUPPLY.           THE OUTSIDE OF EACH PACKAGE AND OR PROTECTIVE DEVICES SHALL             BE CLEARLY MARKED, REFERING SHIPPING MARK.   2. ABOVE POR NO. (SER. NO. SEQ. NO.) AND DESCRIPTION MUST BE         MARKED ON EACH PACKAGE AND PACKING LIST.   자재구매부/이택용/HHIPN301584/2024-01-25 PM 06:28:29(2/7)                                                                                                              \\x0c',\n",
       " 3: \"SHIP NO.   8250/8251   TECHNICAL SPECIFICATION FOR   SHEET PAGE   F.W. GENERATOR   1/5   1. Type                                                                                   Low pressure evaporating type. (M/E jacket water heating)      Shell & Tube type   2. Particular                                                                                       : One(1) Set       1) Q'ty/ship      2) Capacity                              : 25 ton/day with 15% fouling margin                  : Maker's standard    3) Shell vacuum  4) Salinity of distillate water : Max. 10 PPM    5) Design condition     Source   Flow rate (m3/h)  Inlet temp.(℃)  Press.(bar)   Capacity  Total head  Shaft seal   HEATING MEDIUM  M/E jacket cooling F.W.  (M/E model : HYUNDAI-MAN B&W  6G70ME-C10.5-HPSCR)  Maker's standard  83  4.5  Distillate pump  Maker's standard  Maker's standard  Maker's standard   COOLING MEDIUM   S.W.   Maker's standard  32  Maker's standard  Ejector pump   To be supplied  by shipyard   3. Construction and Material     1) Construction     Fresh water generator to consist of evaporating chamber, condensing chamber,   distillate pump, salinity indicator, brine/air ejector, and other accessories.   Jacket cooling water of main engine to be used as heating medium during normal sea   going.   Sufficient vacuum to be maintained inside the distiller by means of brine/air ejector.  Sea water supplied by ejector pump to be delivered to ejector for taking out the brine   and air. The for cooling water system of condensing chamber and feeding of  evaporating chamber to be arranged in accordance with maker's standard.   Salinity of distillate not to exceed 10 PPM and to be monitored by a salinity control   unit with high salinity alarm.   On sensing an excessive salt content, the fresh water outflow to be automatically   diverted to return to evaporating chamber by a dump valve.   The other except the above mentioned to be in accordance with maker's standard and   the requirements of Class Society( DNV )/Regulatory Bodies.   2) Material : Maker's standard.   ▲HYUNDAI HEAVY INDUSTRIES CO., LTD.   자재구매부/이택용/HHIPN301584/2024-01-25 PM 06:28:29(3/7)                                \\x0c\",\n",
       " 4: \"SHIP NO.   8250/8251   TECHNICAL SPECIFICATION FOR   SHEET PAGE   F.W. GENERATOR   2/5   4. Accessory and fittings   To be in accordance with the requirements of Classification Society/Regulatory Bodies and    maker's standard including following.   1 set S.W. ejector for brine/air extraction  1 set Thermometer and bulb with name plate(S.W. in/outlet, J.W. in/outlet, Condenser)  1 set Pressure/Compound gauge with root valve and name plate.  1          Motor driven distillate pump.  1          Vacuum gauge with root valve and name plate.  1          Vacuum breaker.  1          Safety valve.  1          Sight glass.  1          Distillate flowmeter with by-pass line  1          Solenoid dump valve  1          Water treatment unit for evaporating chamber, if necessary  1          Salinometer with automatic control to re-circulate distillate on high salinity  1          F.W. generator chemical dosing unit   All of necessary items and fittings to perform function/operation of the unit.                   5. Spare parts and tools   To be supplied as shown on General Information & Requirement which is separately    distributed by Material Purchasing Department.   6. Remark   1) Capacity of M/E jacket cooling fresh water is max. ( 105 ) m3/h.  2) Available heat dissipation of M/E jacket cooling water is max. ( 782,170 ) kcal/h.  3) The sensor for salinity indicator to be temperature compensated.  4) ( 5.5 ) kg/cm2G saturated steam to be supplied for steam injector.  5) Voltage free, normal close contact for salinity high alarm to be provided for engine control     room console.   6) Ejector pump to be supplied by shipyard.   The capacity/head of above ejector pump to be informed on quotation sheet for yard's    reference.   7) The starter to be supplied by ship yard, but the recommended elec. wiring diagram to be     included in approval drawing for yard's reference.   8) Acid cleaning connection to be provided on S.W. in/outlet for condenser, if necessary.  9) Maker shop test result to be submitted.  10) The final painting color of mach. external surface to be of Munsell no. 7.5 BG 7/2.  11) The S.W. strainer(mesh size : 4 mm) will be provided by yard. But, if the finer strainer    than mesh size of 4 mm is recommended, the required S.W. strainer to be supplied by    maker.   ▲HYUNDAI HEAVY INDUSTRIES CO., LTD.   자재구매부/이택용/HHIPN301584/2024-01-25 PM 06:28:29(4/7)                  \\x0c\",\n",
       " 5: \"SHIP NO.   8250/8251   TECHNICAL SPECIFICATION FOR   SHEET PAGE   F.W. GENERATOR   3/5   12) If the power plug is supplied with the following equipment, the power plug to be of     AC          V, DIN type (W/T type, Non W/T type)  F.W. generator chemical dosing unit   13) The rated evaporation capacity shall be designed based on sea water temp. 32°C   at M/E NCR load.  14) Packing method   All components/fittings to be supplied as one unit with the assembled condition without    loose supply items.  The packing/content list to be prepared for each packing.  The packing case for spare part/tool to be made separately.  The protection cover to be of flame resistance type.  Each group of packages shall be delivered on time separately required by Material     Purchasing Department .   The item(s) marked as “Separately packed” in Package List to be packed separately     as it is to be directly supplied to the third party, i.e. manufacturer for ship’s    hull block and/or equipment (machinery) package unit including pipe fitting and    steel outfitting.   15) The other general requirements which are not shown on this technical spec of P.O.R  and the details of electric spec to be complied with General Information & Requirement  which is separately distributed by Material Purchasing Department.   16) FAT Procedure has to be submitted to our QM before FAT 30 days.   The mentioned documents for FAT have to be submitted at the initial stage.  Piping & Instrument Diagram  Operation manual  Alarm & Safety Device List  Function manual(FDS)  I/O List (If possible)  Owner's approval comments have to be closed before FAT.   ▲HYUNDAI HEAVY INDUSTRIES CO., LTD.   자재구매부/이택용/HHIPN301584/2024-01-25 PM 06:28:29(5/7)          \\x0c\",\n",
       " 6: 'SHIP NO.   8250/8251   TECHNICAL SPECIFICATION FOR   SHEET PAGE   F.W. GENERATOR   4/5   General Remark   1)  The material of insulation, gasket and/or gland packing shall be of asbestos-free type.  2)  All  instruments  to  be  of  suitable  construction  for  max.  operating  value  and  to  be  of  graduation in metric units and normal reading should be between 50%  and 75% of the  value as far as practicable.   3)  Temp. sensor for remote reading & supervision to be of the electric analogue type.  4)  Sensor  cables  to  have  a  loop  of  excess  cable  at  the  sensor  end  to  facilitate   replacement of sensor.   5)  Thermometers and temp. sensors for monitoring of fluid temp. only to be equipped with  pockets of suitable material or to be element exchangeable type Pocket to be filled with  heat conductive compound.   6)  All pneumatic control loops to have air filter regulators.  7)  All control valves, if adopted, shall be provided with manual handle.  8)   Local pressure gauge to be of bourdon tube type with body of brass or SUS.    Local pressure gauge to be liquid filled type, as far as practicable.  Local  pressure  gauges  on  cargo  part  &  exposed  deck  area  to  have  body  of  stainless  steel,  as  far  as  practicable.  (Brass,  copper  &  Al  –brass  is  not  acceptable due to non-compatible with NH3 and Urea)   9)  All root valves for pressure gauges shall be of bite type joint, not brazing type.  10)  Name plate for instrument (press., level, temp. sensors) to be fitted an suitable place of  main equipment or to be attached to instrument by using stainless steel (SUS) wire / lug  similarly to tag.   11)  Spare  parts  and  tools  to  be  supplied  with  suitable  rust  preventive  coating  where   necessary.   12)  Grease  nipple  to  be  of  ball  type  (JIS  B  1575  A-PT  1/8  or  equivalent  type).  (Material  :  Brass  for  indoor,  SUS316L  for  outdoor  and  when  exposed  and/or  submerged  in  Sea  Water)  or  maker’s  standard  which  is  provided  by  the  equipment  supplier  as  a  package.   13)  Removal space (if required) for maintenance to be mentioned on approval drawing.  14)  All  opening(i.e.  in/out  connection  etc.)  to  be  packed  by  blank  flanges  made  of  hard   material after suitable treatment to corrosion attack.   15)  Stainless steel described without grade notation means SUS 304.  16)  Name  plate  showing  valve’s  purpose  to  be  fitted  on  hand  wheel  of  the  valve.  (Tag  or   identification plate fitted with wire on the valve can also be acceptable for small valve)   17)  Spare parts & tools for ancillary equipment to be also shown on  \"List of spare parts &  tools” together with those of main unit. And working q\\'ty, spare q\\'ty, part number to be  shown definitely with sketch of shape.   18)  Control air pipe connection (if required) to be suitable for yard’s 8Φ copper pipe.  19)  Drawing  of  general  layout  showing  plan  /  elevation  /  section  view  shall  be  included  in   the approval drawing.   20)  Eye-plate  to  be  suitably  fitted  for  rotor  of  generator,  steam  turbines,  electric  motors,     heat exchanger’s cover/tube/bundles and heavy strainer’s cover/filter/element of about  40 kg & above (And lifting eyes to have a min. diameter of 23 mm).   21)  Test  provision  such  as  three  way  test  cock  to  be  provided  for  pressure  switches  and   pressure transmitters.   ▲HYUNDAI HEAVY INDUSTRIES CO., LTD.   자재구매부/이택용/HHIPN301584/2024-01-25 PM 06:28:29(6/7)      \\x0c',\n",
       " 7: 'SHIP NO.   8250/8251   TECHNICAL SPECIFICATION FOR   SHEET PAGE   F.W. GENERATOR   5/5   22)  The  surfaces  having  normal  operating  temperatures  above  60  ℃  to  be  insulated  by  “Supplier\",  except  valves  and  flanges,  where  required,  for  maintaining  internal  fluid  temperature  and for personal protection and  at  least  the  a preparation  work(insulation  stopper and/or pin) should be done by supplier before equipment delivery.   23)  The  information  of  loose  supply  items  (Yard  Supply  Scope)  &  connections  to  be   separately listed and reflected on the approval drawing.   24)  The deviation from yard’s P.O.S. to be notified by the deviation list and clarified at the   quotation stage. (IMPORTANT)  Items  not  notified  in  the  deviation  list  should  be  considered  as  fully  satisfied  with  this  technical specification.  Even in case there is no deviation, such a term as ‘no deviation’ should be stated in the  deviation list. (IMPORTANT)   25)  Any necessitate modification and/or changes from the submitted specifications and/or   official performance data released at the time being, MUST be informed separately and  agreed by YARD prior to application. (IMPORTANT)   26)  For the explosion proof equipment installed in hazardous area, item list of explosion proof  electric component (such as sensor, motor) and specific general arrangement drawing  including location of the component and copy or picture of Certificate No./Classification to  be submitted prior to FAT.   27)  Cable way to be provided on equipment body or additional cable tray to be provided for  each yard cable connection. And standardized cable way/tray should be indicated and  represented clearly on approval drawing.     28)  All cable glands to be marine use type and maker’s standard. Maker shall be  responsible for provision/installation of suitable size of cable gland with  gapless inner packing so that it can hold cable tightly and ensure intended  quality and performance. In case of non-metallic gland application, it should be  made of approved corrosion/oil resistant materials and non-hazardous material  including flame retardant characteristic. Strength and hardness shall be similar  to metallic gland and it shall be capable of withstanding ship’s vibration and UV  light(ultra violet) by such as anti-UV coating or equivalent. Unused cable glands  to be blocked by blind plug to satisfy IP grade & explosion proof.   29)  Enclosure and protection type for electric equipment to be applied as follows   unless specified elsewhere in the POS.  Drip-proof type (IP 20): Inside control room and accommodation  Drip-proof type (IP 22): Inside engine room (above floor) and other enclosed     Splash-proof type (IP 44): Inside engine room (below floor), steering gear, fire     machinery space   Water-proof type (IP 56): Weather exposed space   control station, purifier space, galley and laundry,  bosun store.   ▲HYUNDAI HEAVY INDUSTRIES CO., LTD.   자재구매부/이택용/HHIPN301584/2024-01-25 PM 06:28:29(7/7)    \\x0c'}"
      ]
     },
     "execution_count": 75,
     "metadata": {},
     "output_type": "execute_result"
    }
   ],
   "source": [
    "result"
   ]
  },
  {
   "cell_type": "code",
   "execution_count": 79,
   "metadata": {},
   "outputs": [
    {
     "data": {
      "text/plain": [
       "\"SHIP NO.   8250/8251   TECHNICAL SPECIFICATION FOR   SHEET PAGE   F.W. GENERATOR   1/5   1. Type                                                                                   Low pressure evaporating type. (M/E jacket water heating)      Shell & Tube type   2. Particular                                                                                       : One(1) Set       1) Q'ty/ship      2) Capacity                              : 25 ton/day with 15% fouling margin                  : Maker's standard    3) Shell vacuum  4) Salinity of distillate water : Max. 10 PPM    5) Design condition     Source   Flow rate (m3/h)  Inlet temp.(℃)  Press.(bar)   Capacity  Total head  Shaft seal   HEATING MEDIUM  M/E jacket cooling F.W.  (M/E model : HYUNDAI-MAN B&W  6G70ME-C10.5-HPSCR)  Maker's standard  83  4.5  Distillate pump  Maker's standard  Maker's standard  Maker's standard   COOLING MEDIUM   S.W.   Maker's standard  32  Maker's standard  Ejector pump   To be supplied  by shipyard   3. Construction and Material     1) Construction     Fresh water generator to consist of evaporating chamber, condensing chamber,   distillate pump, salinity indicator, brine/air ejector, and other accessories.   Jacket cooling water of main engine to be used as heating medium during normal sea   going.   Sufficient vacuum to be maintained inside the distiller by means of brine/air ejector.  Sea water supplied by ejector pump to be delivered to ejector for taking out the brine   and air. The for cooling water system of condensing chamber and feeding of  evaporating chamber to be arranged in accordance with maker's standard.   Salinity of distillate not to exceed 10 PPM and to be monitored by a salinity control   unit with high salinity alarm.   On sensing an excessive salt content, the fresh water outflow to be automatically   diverted to return to evaporating chamber by a dump valve.   The other except the above mentioned to be in accordance with maker's standard and   the requirements of Class Society( DNV )/Regulatory Bodies.   2) Material : Maker's standard.   ▲HYUNDAI HEAVY INDUSTRIES CO., LTD.   자재구매부/이택용/HHIPN301584/2024-01-25 PM 06:28:29(3/7)                                \\x0c\""
      ]
     },
     "execution_count": 79,
     "metadata": {},
     "output_type": "execute_result"
    }
   ],
   "source": [
    "result[3]"
   ]
  },
  {
   "cell_type": "code",
   "execution_count": null,
   "metadata": {},
   "outputs": [],
   "source": []
  },
  {
   "cell_type": "code",
   "execution_count": null,
   "metadata": {},
   "outputs": [],
   "source": []
  }
 ],
 "metadata": {
  "kernelspec": {
   "display_name": "myenv_310",
   "language": "python",
   "name": "python3"
  },
  "language_info": {
   "codemirror_mode": {
    "name": "ipython",
    "version": 3
   },
   "file_extension": ".py",
   "mimetype": "text/x-python",
   "name": "python",
   "nbconvert_exporter": "python",
   "pygments_lexer": "ipython3",
   "version": "3.10.11"
  }
 },
 "nbformat": 4,
 "nbformat_minor": 2
}
